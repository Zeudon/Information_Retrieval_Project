{
  "nbformat": 4,
  "nbformat_minor": 0,
  "metadata": {
    "colab": {
      "provenance": []
    },
    "kernelspec": {
      "name": "python3",
      "display_name": "Python 3"
    },
    "language_info": {
      "name": "python"
    }
  },
  "cells": [
    {
      "cell_type": "code",
      "execution_count": null,
      "metadata": {
        "id": "-AUX7h-hk_vE"
      },
      "outputs": [],
      "source": [
        "import pandas as pd\n",
        "import numpy as np\n",
        "import scipy\n",
        "import time\n",
        "import matplotlib.pyplot as plt"
      ]
    },
    {
      "cell_type": "code",
      "source": [
        "#To calculate eigen vector\n",
        "#n=nodes,c=conections count, e_list=edges list\n",
        "def left_eigen(n,c,e_list):\n",
        "  mat = np.zeros((n,n))\n",
        "  MAT = np.zeros((n,n))\n",
        "  for i in range(c):\n",
        "    x = e_list[i][0]\n",
        "    y = e_list[i][1]\n",
        "    mat[(x-1)][(y-1)] = 1\n",
        "    MAT[(x-1)][(y-1)] = 1\n",
        "  for i in range(n):\n",
        "    mat[i]= mat[i]/sum(mat[i])\n",
        "  #print(mat.T)\n",
        "  v, V = np.linalg.eig(mat.T)\n",
        "  left_ev = V[:,0].T\n",
        "  #left_ev.sort()\n",
        "  return left_ev, mat, MAT\n",
        "\n"
      ],
      "metadata": {
        "id": "j7XxwDFmpC3f"
      },
      "execution_count": null,
      "outputs": []
    },
    {
      "cell_type": "code",
      "source": [
        "def left_eigen_vector(mat):\n",
        "  v, V = np.linalg.eig(mat.T)\n",
        "  left_ev = V[:,0].T\n",
        "  #left_ev.sort()\n",
        "  return left_ev\n"
      ],
      "metadata": {
        "id": "-VBH1igPuYYZ"
      },
      "execution_count": null,
      "outputs": []
    },
    {
      "cell_type": "code",
      "source": [
        "#To calculate the teleportation matrix\n",
        "def cal_teleportation(MAT):\n",
        "  alpha = 0.1\n",
        "  for i in range(nodes):\n",
        "    for j in range(nodes):\n",
        "      if (MAT[i][j]==0):\n",
        "        MAT[i][j] = alpha/List_N_M[i][0]\n",
        "      else:\n",
        "        MAT[i][j] = MAT[i][j]*(1-alpha)/List_N_M[i][1]\n",
        "  return MAT"
      ],
      "metadata": {
        "id": "Z2l1mmRnuQYA"
      },
      "execution_count": null,
      "outputs": []
    },
    {
      "cell_type": "code",
      "source": [
        "110#Taking the input\n",
        "nodes = int(input('Number of nodes:'))\n",
        "connections = int(input('Number of connections:'))\n",
        "edges = input('Enter the edges:')\n",
        "edges = edges.split(' ')\n",
        "edges_list = []\n",
        "for i in range(connections):\n",
        "  edges_list.append(tuple(int(x) for x in edges[i].split(',')))"
      ],
      "metadata": {
        "colab": {
          "base_uri": "https://localhost:8080/"
        },
        "id": "nhyu95IPw9z7",
        "outputId": "7388ea3c-bd87-412b-84e5-a57378b767d1"
      },
      "execution_count": null,
      "outputs": [
        {
          "name": "stdout",
          "output_type": "stream",
          "text": [
            "Number of nodes:6\n",
            "Number of connections:6\n",
            "Enter the edges:2,1 2,3 3,4 4,5 4,6 5,2\n"
          ]
        }
      ]
    },
    {
      "cell_type": "code",
      "source": [
        "\n",
        "EigenVector, Mat, MAT = left_eigen(nodes,connections,edges_list)\n",
        "List_N_M =[]\n",
        "for i in range(nodes):\n",
        "  N=0 #The nodes where teleportation needs to be applied\n",
        "  M=0 #The nodes that can go to only to a specific page\n",
        "  for j in range(nodes):\n",
        "    if (MAT[i][j] == 0):\n",
        "      N = N+1\n",
        "    else:\n",
        "      M = M+1\n",
        "  List_N_M.append((N,M))\n",
        "#List_N_M\n",
        "#MAT\n"
      ],
      "metadata": {
        "id": "Nqc3aET9uLt3",
        "colab": {
          "base_uri": "https://localhost:8080/",
          "height": 442
        },
        "outputId": "b4fc43f4-a6e7-4918-8b6b-64539505df0e"
      },
      "execution_count": null,
      "outputs": [
        {
          "output_type": "stream",
          "name": "stderr",
          "text": [
            "/usr/local/lib/python3.7/dist-packages/ipykernel_launcher.py:12: RuntimeWarning: invalid value encountered in true_divide\n",
            "  if sys.path[0] == '':\n"
          ]
        },
        {
          "output_type": "error",
          "ename": "LinAlgError",
          "evalue": "ignored",
          "traceback": [
            "\u001b[0;31m---------------------------------------------------------------------------\u001b[0m",
            "\u001b[0;31mLinAlgError\u001b[0m                               Traceback (most recent call last)",
            "\u001b[0;32m<ipython-input-29-3a8d9b220c55>\u001b[0m in \u001b[0;36m<module>\u001b[0;34m()\u001b[0m\n\u001b[1;32m      1\u001b[0m \u001b[0;34m\u001b[0m\u001b[0m\n\u001b[0;32m----> 2\u001b[0;31m \u001b[0mEigenVector\u001b[0m\u001b[0;34m,\u001b[0m \u001b[0mMat\u001b[0m\u001b[0;34m,\u001b[0m \u001b[0mMAT\u001b[0m \u001b[0;34m=\u001b[0m \u001b[0mleft_eigen\u001b[0m\u001b[0;34m(\u001b[0m\u001b[0mnodes\u001b[0m\u001b[0;34m,\u001b[0m\u001b[0mconnections\u001b[0m\u001b[0;34m,\u001b[0m\u001b[0medges_list\u001b[0m\u001b[0;34m)\u001b[0m\u001b[0;34m\u001b[0m\u001b[0;34m\u001b[0m\u001b[0m\n\u001b[0m\u001b[1;32m      3\u001b[0m \u001b[0mList_N_M\u001b[0m \u001b[0;34m=\u001b[0m\u001b[0;34m[\u001b[0m\u001b[0;34m]\u001b[0m\u001b[0;34m\u001b[0m\u001b[0;34m\u001b[0m\u001b[0m\n\u001b[1;32m      4\u001b[0m \u001b[0;32mfor\u001b[0m \u001b[0mi\u001b[0m \u001b[0;32min\u001b[0m \u001b[0mrange\u001b[0m\u001b[0;34m(\u001b[0m\u001b[0mnodes\u001b[0m\u001b[0;34m)\u001b[0m\u001b[0;34m:\u001b[0m\u001b[0;34m\u001b[0m\u001b[0;34m\u001b[0m\u001b[0m\n\u001b[1;32m      5\u001b[0m   \u001b[0mN\u001b[0m\u001b[0;34m=\u001b[0m\u001b[0;36m0\u001b[0m \u001b[0;31m#The nodes where teleportation needs to be applied\u001b[0m\u001b[0;34m\u001b[0m\u001b[0;34m\u001b[0m\u001b[0m\n",
            "\u001b[0;32m<ipython-input-23-03e2c8d29af2>\u001b[0m in \u001b[0;36mleft_eigen\u001b[0;34m(n, c, e_list)\u001b[0m\n\u001b[1;32m     12\u001b[0m     \u001b[0mmat\u001b[0m\u001b[0;34m[\u001b[0m\u001b[0mi\u001b[0m\u001b[0;34m]\u001b[0m\u001b[0;34m=\u001b[0m \u001b[0mmat\u001b[0m\u001b[0;34m[\u001b[0m\u001b[0mi\u001b[0m\u001b[0;34m]\u001b[0m\u001b[0;34m/\u001b[0m\u001b[0msum\u001b[0m\u001b[0;34m(\u001b[0m\u001b[0mmat\u001b[0m\u001b[0;34m[\u001b[0m\u001b[0mi\u001b[0m\u001b[0;34m]\u001b[0m\u001b[0;34m)\u001b[0m\u001b[0;34m\u001b[0m\u001b[0;34m\u001b[0m\u001b[0m\n\u001b[1;32m     13\u001b[0m   \u001b[0;31m#print(mat.T)\u001b[0m\u001b[0;34m\u001b[0m\u001b[0;34m\u001b[0m\u001b[0;34m\u001b[0m\u001b[0m\n\u001b[0;32m---> 14\u001b[0;31m   \u001b[0mv\u001b[0m\u001b[0;34m,\u001b[0m \u001b[0mV\u001b[0m \u001b[0;34m=\u001b[0m \u001b[0mnp\u001b[0m\u001b[0;34m.\u001b[0m\u001b[0mlinalg\u001b[0m\u001b[0;34m.\u001b[0m\u001b[0meig\u001b[0m\u001b[0;34m(\u001b[0m\u001b[0mmat\u001b[0m\u001b[0;34m.\u001b[0m\u001b[0mT\u001b[0m\u001b[0;34m)\u001b[0m\u001b[0;34m\u001b[0m\u001b[0;34m\u001b[0m\u001b[0m\n\u001b[0m\u001b[1;32m     15\u001b[0m   \u001b[0mleft_ev\u001b[0m \u001b[0;34m=\u001b[0m \u001b[0mV\u001b[0m\u001b[0;34m[\u001b[0m\u001b[0;34m:\u001b[0m\u001b[0;34m,\u001b[0m\u001b[0;36m0\u001b[0m\u001b[0;34m]\u001b[0m\u001b[0;34m.\u001b[0m\u001b[0mT\u001b[0m\u001b[0;34m\u001b[0m\u001b[0;34m\u001b[0m\u001b[0m\n\u001b[1;32m     16\u001b[0m   \u001b[0;31m#left_ev.sort()\u001b[0m\u001b[0;34m\u001b[0m\u001b[0;34m\u001b[0m\u001b[0;34m\u001b[0m\u001b[0m\n",
            "\u001b[0;32m<__array_function__ internals>\u001b[0m in \u001b[0;36meig\u001b[0;34m(*args, **kwargs)\u001b[0m\n",
            "\u001b[0;32m/usr/local/lib/python3.7/dist-packages/numpy/linalg/linalg.py\u001b[0m in \u001b[0;36meig\u001b[0;34m(a)\u001b[0m\n\u001b[1;32m   1315\u001b[0m     \u001b[0m_assert_stacked_2d\u001b[0m\u001b[0;34m(\u001b[0m\u001b[0ma\u001b[0m\u001b[0;34m)\u001b[0m\u001b[0;34m\u001b[0m\u001b[0;34m\u001b[0m\u001b[0m\n\u001b[1;32m   1316\u001b[0m     \u001b[0m_assert_stacked_square\u001b[0m\u001b[0;34m(\u001b[0m\u001b[0ma\u001b[0m\u001b[0;34m)\u001b[0m\u001b[0;34m\u001b[0m\u001b[0;34m\u001b[0m\u001b[0m\n\u001b[0;32m-> 1317\u001b[0;31m     \u001b[0m_assert_finite\u001b[0m\u001b[0;34m(\u001b[0m\u001b[0ma\u001b[0m\u001b[0;34m)\u001b[0m\u001b[0;34m\u001b[0m\u001b[0;34m\u001b[0m\u001b[0m\n\u001b[0m\u001b[1;32m   1318\u001b[0m     \u001b[0mt\u001b[0m\u001b[0;34m,\u001b[0m \u001b[0mresult_t\u001b[0m \u001b[0;34m=\u001b[0m \u001b[0m_commonType\u001b[0m\u001b[0;34m(\u001b[0m\u001b[0ma\u001b[0m\u001b[0;34m)\u001b[0m\u001b[0;34m\u001b[0m\u001b[0;34m\u001b[0m\u001b[0m\n\u001b[1;32m   1319\u001b[0m \u001b[0;34m\u001b[0m\u001b[0m\n",
            "\u001b[0;32m/usr/local/lib/python3.7/dist-packages/numpy/linalg/linalg.py\u001b[0m in \u001b[0;36m_assert_finite\u001b[0;34m(*arrays)\u001b[0m\n\u001b[1;32m    206\u001b[0m     \u001b[0;32mfor\u001b[0m \u001b[0ma\u001b[0m \u001b[0;32min\u001b[0m \u001b[0marrays\u001b[0m\u001b[0;34m:\u001b[0m\u001b[0;34m\u001b[0m\u001b[0;34m\u001b[0m\u001b[0m\n\u001b[1;32m    207\u001b[0m         \u001b[0;32mif\u001b[0m \u001b[0;32mnot\u001b[0m \u001b[0misfinite\u001b[0m\u001b[0;34m(\u001b[0m\u001b[0ma\u001b[0m\u001b[0;34m)\u001b[0m\u001b[0;34m.\u001b[0m\u001b[0mall\u001b[0m\u001b[0;34m(\u001b[0m\u001b[0;34m)\u001b[0m\u001b[0;34m:\u001b[0m\u001b[0;34m\u001b[0m\u001b[0;34m\u001b[0m\u001b[0m\n\u001b[0;32m--> 208\u001b[0;31m             \u001b[0;32mraise\u001b[0m \u001b[0mLinAlgError\u001b[0m\u001b[0;34m(\u001b[0m\u001b[0;34m\"Array must not contain infs or NaNs\"\u001b[0m\u001b[0;34m)\u001b[0m\u001b[0;34m\u001b[0m\u001b[0;34m\u001b[0m\u001b[0m\n\u001b[0m\u001b[1;32m    209\u001b[0m \u001b[0;34m\u001b[0m\u001b[0m\n\u001b[1;32m    210\u001b[0m \u001b[0;32mdef\u001b[0m \u001b[0m_is_empty_2d\u001b[0m\u001b[0;34m(\u001b[0m\u001b[0marr\u001b[0m\u001b[0;34m)\u001b[0m\u001b[0;34m:\u001b[0m\u001b[0;34m\u001b[0m\u001b[0;34m\u001b[0m\u001b[0m\n",
            "\u001b[0;31mLinAlgError\u001b[0m: Array must not contain infs or NaNs"
          ]
        }
      ]
    },
    {
      "cell_type": "code",
      "source": [
        "print(List_N_M)"
      ],
      "metadata": {
        "colab": {
          "base_uri": "https://localhost:8080/"
        },
        "id": "ZYn2GsabuPyf",
        "outputId": "7b426c71-a29b-4d8b-e539-ab8480681c28"
      },
      "execution_count": null,
      "outputs": [
        {
          "output_type": "stream",
          "name": "stdout",
          "text": [
            "[(3, 1), (3, 1), (3, 1), (3, 1)]\n"
          ]
        }
      ]
    },
    {
      "cell_type": "code",
      "source": [
        "#With teleportations\n",
        "t5=time.perf_counter()\n",
        "Teleportation_Matrix = cal_teleportation(MAT)\n",
        "print(Teleportation_Matrix)\n",
        "print(left_eigen_vector(Teleportation_Matrix))\n",
        "t6 = time.perf_counter()\n",
        "print('time taken to run:',t6-t5)\n"
      ],
      "metadata": {
        "colab": {
          "base_uri": "https://localhost:8080/"
        },
        "id": "ybK1dYMEuaqX",
        "outputId": "43fdd907-0887-46cc-cd35-a81b92bd3281"
      },
      "execution_count": null,
      "outputs": [
        {
          "output_type": "stream",
          "name": "stdout",
          "text": [
            "[[0.03333333 0.9        0.03333333 0.03333333]\n",
            " [0.03333333 0.03333333 0.9        0.03333333]\n",
            " [0.03333333 0.03333333 0.03333333 0.9       ]\n",
            " [0.9        0.03333333 0.03333333 0.03333333]]\n",
            "[-0.5+0.j -0.5+0.j -0.5+0.j -0.5+0.j]\n",
            "time taken to run: 0.003065656999751809\n"
          ]
        }
      ]
    },
    {
      "cell_type": "code",
      "source": [
        "#Without teleportations\n",
        "t7=time.perf_counter()\n",
        "print(left_eigen_vector(MAT))\n",
        "t8 = time.perf_counter()\n",
        "print('time taken to run:',t8-t7)"
      ],
      "metadata": {
        "colab": {
          "base_uri": "https://localhost:8080/"
        },
        "id": "RkJ8_lKFKEDG",
        "outputId": "9f3c61c2-a881-4272-b4d5-c065dd31101c"
      },
      "execution_count": null,
      "outputs": [
        {
          "output_type": "stream",
          "name": "stdout",
          "text": [
            "[-0.5+0.j -0.5+0.j -0.5+0.j -0.5+0.j]\n",
            "time taken to run: 0.0013691210001525178\n"
          ]
        }
      ]
    },
    {
      "cell_type": "code",
      "source": [
        "#Power Iteration Method with Random Teleportation\n",
        "t3 = time.perf_counter()\n",
        "r_0 = np.empty(nodes)\n",
        "r_0.fill((1/nodes))\n",
        "#print(r_0)\n",
        "count = 0\n",
        "epochs = 50000\n",
        "for i in range(epochs):\n",
        "  convergence = r_0\n",
        "  r_0 = np.dot(r_0, Teleportation_Matrix)\n",
        "  count += 1\n",
        "  converged = False\n",
        "  for i in range(len(r_0)):\n",
        "    if r_0[i] == convergence[i]:\n",
        "      converged = True\n",
        "  if converged:\n",
        "    break\n",
        "print(r_0)\n",
        "print(\"The number of iterations it took for convergence is \", count)\n",
        "#print(np.sum(r_0))\n",
        "t4 = time.perf_counter()\n",
        "print('time taken to run:',t4-t3)"
      ],
      "metadata": {
        "colab": {
          "base_uri": "https://localhost:8080/"
        },
        "id": "3HhC3dT-UY7P",
        "outputId": "869ea46c-18fc-42ff-df82-e9600d710b1c"
      },
      "execution_count": null,
      "outputs": [
        {
          "output_type": "stream",
          "name": "stdout",
          "text": [
            "[0.25 0.25 0.25 0.25]\n",
            "The number of iterations it took for convergence is  1\n",
            "time taken to run: 0.007384689999980765\n"
          ]
        }
      ]
    },
    {
      "cell_type": "code",
      "source": [
        "#Power Iteration Method without Random Teleportation\n",
        "t1 = time.perf_counter()\n",
        "EigenVector, Mat, MAT = left_eigen(nodes,connections,edges_list)\n",
        "x_0 = np.empty(nodes)\n",
        "x_0.fill((1/nodes))\n",
        "#print(x_0)\n",
        "count = 0\n",
        "epochs = 50000\n",
        "for i in range(epochs):\n",
        "  convergence = x_0\n",
        "  x_0 = np.dot(x_0, Mat)\n",
        "  count += 1\n",
        "  converged = False\n",
        "  for i in range(len(x_0)):\n",
        "    if x_0[i] == convergence[i]:\n",
        "      converged = True\n",
        "  if converged:\n",
        "    break\n",
        "print(x_0)\n",
        "print(\"The number of iterations it took for convergence is \", count)\n",
        "t2 = time.perf_counter()\n",
        "print('time taken to run:',t2-t1)"
      ],
      "metadata": {
        "colab": {
          "base_uri": "https://localhost:8080/"
        },
        "id": "_RrOUI9JUwrj",
        "outputId": "56b84383-39da-425f-f2c4-8c8dbd794106"
      },
      "execution_count": null,
      "outputs": [
        {
          "output_type": "stream",
          "name": "stdout",
          "text": [
            "[0.25 0.25 0.25 0.25]\n",
            "The number of iterations it took for convergence is  1\n",
            "time taken to run: 0.001921299000059662\n"
          ]
        }
      ]
    },
    {
      "cell_type": "code",
      "source": [
        "time=[0.0035684389999914856,0.003257834000010007,0.005574124999952801,0.003077531000030831,0.001980653000032362,0.0035660819999066007,0.004722094000044308]\n",
        "nodes=[4,5,6,7,8,9,10]\n",
        "plt.plot(nodes,time)\n",
        "plt.title(\"left Eigen vector with teleportation\")\n",
        "plt.xlabel(\"No of nodes\")\n",
        "plt.ylabel(\"Execution time\")"
      ],
      "metadata": {
        "colab": {
          "base_uri": "https://localhost:8080/",
          "height": 312
        },
        "id": "MJDWmRRV-IqY",
        "outputId": "8fa510ac-3809-463c-f6ca-dd6a95f443dc"
      },
      "execution_count": null,
      "outputs": [
        {
          "output_type": "execute_result",
          "data": {
            "text/plain": [
              "Text(0, 0.5, 'Execution time')"
            ]
          },
          "metadata": {},
          "execution_count": 89
        },
        {
          "output_type": "display_data",
          "data": {
            "text/plain": [
              "<Figure size 432x288 with 1 Axes>"
            ],
            "image/png": "[encoded data removed]"
          },
          "metadata": {
            "needs_background": "light"
          }
        }
      ]
    },
    {
      "cell_type": "code",
      "source": [
        "time=[0.0008033179999529239,0.0008129400000598253,0.001571034999983567,0.000582086999997955,0.0009293519999573618,0.0026942879999296565,0.0015324850000979495]\n",
        "nodes=[4,5,6,7,8,9,10]\n",
        "plt.plot(nodes,time)\n",
        "plt.title(\"left eigen vector without teleportation\")\n",
        "plt.xlabel(\"No of nodes\")\n",
        "plt.ylabel(\"Execution time\")"
      ],
      "metadata": {
        "colab": {
          "base_uri": "https://localhost:8080/",
          "height": 312
        },
        "id": "H3gNZAY7_P7P",
        "outputId": "2bc59ee8-519e-45f6-ce3c-ef37f2c71e42"
      },
      "execution_count": null,
      "outputs": [
        {
          "output_type": "execute_result",
          "data": {
            "text/plain": [
              "Text(0, 0.5, 'Execution time')"
            ]
          },
          "metadata": {},
          "execution_count": 86
        },
        {
          "output_type": "display_data",
          "data": {
            "text/plain": [
              "<Figure size 432x288 with 1 Axes>"
            ],
            "image/png": "[encoded data removed]"
          },
          "metadata": {
            "needs_background": "light"
          }
        }
      ]
    },
    {
      "cell_type": "code",
      "source": [
        "time=[0.005907283999931678,0.002893822000032742, 0.0045467559999679,0.006043257999976959,0.009331112000040775,0.28518325100003494,0.0033650339998985146]\n",
        "nodes=[4,5,6,7,8,9,10]\n",
        "plt.plot(nodes,time)\n",
        "plt.title(\"Power Iteration Method with Random Teleportation\")\n",
        "plt.xlabel(\"No of nodes\")\n",
        "plt.ylabel(\"Execution time\")"
      ],
      "metadata": {
        "colab": {
          "base_uri": "https://localhost:8080/",
          "height": 312
        },
        "id": "0rGK_WLu_4jM",
        "outputId": "7f28cb80-7052-4604-d261-17025fb94a27"
      },
      "execution_count": null,
      "outputs": [
        {
          "output_type": "execute_result",
          "data": {
            "text/plain": [
              "Text(0, 0.5, 'Execution time')"
            ]
          },
          "metadata": {},
          "execution_count": 85
        },
        {
          "output_type": "display_data",
          "data": {
            "text/plain": [
              "<Figure size 432x288 with 1 Axes>"
            ],
            "image/png": "[encoded data removed]"
          },
          "metadata": {
            "needs_background": "light"
          }
        }
      ]
    },
    {
      "cell_type": "code",
      "source": [
        "time=[0.0063026819998412975,0.0013057549999757612,0.0037510829999973794,0.010479972999974052,0.003976760000000468,0.004639176999944539,0.0027171709998583538]\n",
        "nodes=[4,5,6,7,8,9,10]\n",
        "plt.plot(nodes,time)\n",
        "plt.title(\"Power Iteration Method without Random Teleportation\")\n",
        "plt.xlabel(\"No of nodes\")\n",
        "plt.ylabel(\"execution time\")"
      ],
      "metadata": {
        "colab": {
          "base_uri": "https://localhost:8080/",
          "height": 312
        },
        "id": "pbAugY00AU29",
        "outputId": "95c8d763-09b5-438d-f63f-a2c94b337086"
      },
      "execution_count": null,
      "outputs": [
        {
          "output_type": "execute_result",
          "data": {
            "text/plain": [
              "Text(0, 0.5, 'execution time')"
            ]
          },
          "metadata": {},
          "execution_count": 84
        },
        {
          "output_type": "display_data",
          "data": {
            "text/plain": [
              "<Figure size 432x288 with 1 Axes>"
            ],
            "image/png": "[encoded data removed]"
          },
          "metadata": {
            "needs_background": "light"
          }
        }
      ]
    }
  ]
}